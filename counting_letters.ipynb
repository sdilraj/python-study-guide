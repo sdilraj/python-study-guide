{
  "nbformat": 4,
  "nbformat_minor": 0,
  "metadata": {
    "colab": {
      "name": "counting-letters.ipynb",
      "provenance": []
    },
    "kernelspec": {
      "name": "python3",
      "display_name": "Python 3"
    }
  },
  "cells": [
    {
      "cell_type": "code",
      "metadata": {
        "id": "Rl4vbr_jQgVE",
        "colab_type": "code",
        "colab": {}
      },
      "source": [
        "#count instance of the letters in each text\n",
        "sherlock = '''\n",
        "World War I began in 1914 after the assassination of Archduke Franz Ferdinand and lasted until 1918. During the conflict, Germany, Austria-Hungary, Bulgaria and the Ottoman Empire (the Central Powers) fought against Great Britain, France, Russia, Italy, Romania, Japan and the United States (the Allied Powers). Thanks to new military technologies and the horrors of trench warfare, World War I saw unprecedented levels of carnage and destruction. By the time the war was over and the Allied Powers claimed victory, more than 16 million people—soldiers and civilians alike—were dead\n",
        "'''"
      ],
      "execution_count": 9,
      "outputs": []
    },
    {
      "cell_type": "code",
      "metadata": {
        "id": "UqjMPK6XcZ4Q",
        "colab_type": "code",
        "colab": {
          "base_uri": "https://localhost:8080/",
          "height": 54
        },
        "outputId": "85309fa8-c351-4a75-da17-2782313e3b72"
      },
      "source": [
        "letter_count = {}\n",
        "for letter in sherlock:\n",
        "  letter_count[letter.lower()] = letter_count.get(letter, 0) + 1\n",
        "print(letter_count)"
      ],
      "execution_count": 10,
      "outputs": [
        {
          "output_type": "stream",
          "text": [
            "{'\\n': 2, 'w': 6, 'o': 22, 'r': 21, 'l': 23, 'd': 18, ' ': 88, 'a': 7, 'i': 13, 'b': 1, 'e': 43, 'g': 3, 'n': 38, '1': 5, '9': 2, '4': 1, 'f': 4, 't': 15, 'h': 15, 's': 14, 'c': 10, 'u': 3, 'k': 3, 'z': 1, '8': 1, '.': 3, ',': 10, 'm': 9, 'y': 6, '-': 1, 'p': 3, '(': 2, ')': 2, 'j': 1, 'v': 4, '6': 1, '—': 2}\n"
          ],
          "name": "stdout"
        }
      ]
    },
    {
      "cell_type": "code",
      "metadata": {
        "id": "5KIOTfFtctx6",
        "colab_type": "code",
        "colab": {
          "base_uri": "https://localhost:8080/",
          "height": 265
        },
        "outputId": "0f38af02-d5f7-4da1-8c3c-69d04bc154b1"
      },
      "source": [
        "import matplotlib.pyplot as plt\n",
        "\n",
        "#using zip\n",
        "x,y = zip(*letter_count.items())\n",
        "plt.bar(x,y)\n",
        "plt.show()"
      ],
      "execution_count": 12,
      "outputs": [
        {
          "output_type": "display_data",
          "data": {
            "image/png": "[encoded data removed]",
            "text/plain": [
              "<Figure size 432x288 with 1 Axes>"
            ]
          },
          "metadata": {
            "tags": [],
            "needs_background": "light"
          }
        }
      ]
    },
    {
      "cell_type": "code",
      "metadata": {
        "id": "PEVycg4TdGr6",
        "colab_type": "code",
        "colab": {
          "base_uri": "https://localhost:8080/",
          "height": 54
        },
        "outputId": "f90e8132-9c47-4408-ad41-c1f00ea0b23a"
      },
      "source": [
        "letters_count = {}\n",
        "\n",
        "for k,v in letter_count.items():\n",
        "  if k.isalpha(): #if k is a alphabet\n",
        "    letters_count[k] = v\n",
        "\n",
        "print(letters_count)"
      ],
      "execution_count": 16,
      "outputs": [
        {
          "output_type": "stream",
          "text": [
            "{'w': 6, 'o': 22, 'r': 21, 'l': 23, 'd': 18, 'a': 7, 'i': 13, 'b': 1, 'e': 43, 'g': 3, 'n': 38, 'f': 4, 't': 15, 'h': 15, 's': 14, 'c': 10, 'u': 3, 'k': 3, 'z': 1, 'm': 9, 'y': 6, 'p': 3, 'j': 1, 'v': 4}\n"
          ],
          "name": "stdout"
        }
      ]
    },
    {
      "cell_type": "code",
      "metadata": {
        "id": "qAdOGm2tfYJH",
        "colab_type": "code",
        "colab": {
          "base_uri": "https://localhost:8080/",
          "height": 265
        },
        "outputId": "bad26204-04f1-47f5-ceac-254750d26d00"
      },
      "source": [
        "x,y = zip(*letters_count.items())\n",
        "plt.bar(x,y)\n",
        "plt.show()"
      ],
      "execution_count": 17,
      "outputs": [
        {
          "output_type": "display_data",
          "data": {
            "image/png": "[encoded data removed]",
            "text/plain": [
              "<Figure size 432x288 with 1 Axes>"
            ]
          },
          "metadata": {
            "tags": [],
            "needs_background": "light"
          }
        }
      ]
    },
    {
      "cell_type": "code",
      "metadata": {
        "id": "2FOD1eEIgXAK",
        "colab_type": "code",
        "colab": {}
      },
      "source": [
        ""
      ],
      "execution_count": null,
      "outputs": []
    }
  ]
}